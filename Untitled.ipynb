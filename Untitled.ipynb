{
 "cells": [
  {
   "cell_type": "markdown",
   "id": "89bac2fc-f471-41db-b535-d9872c33a851",
   "metadata": {},
   "source": [
    "# My Jupyter Notebook on IBM Watson Studio"
   ]
  },
  {
   "cell_type": "markdown",
   "id": "3469ad4a-b9f3-47ad-aa33-ed7c298f8735",
   "metadata": {},
   "source": [
    "**Anh Tu Chau**\n",
    "\n",
    "I am a Computer Science student in university."
   ]
  },
  {
   "cell_type": "markdown",
   "id": "057b27b3-b0d1-48f5-be72-f3676eb8257a",
   "metadata": {},
   "source": [
    "_I am interested in data science because I like solving problems using data._"
   ]
  },
  {
   "cell_type": "markdown",
   "id": "392be672-267a-41d5-9d1d-9f337df42063",
   "metadata": {},
   "source": [
    "### The following code prints \"Hello World!\""
   ]
  },
  {
   "cell_type": "code",
   "execution_count": 1,
   "id": "ff02d378-f012-49c7-80d5-328051032fa4",
   "metadata": {},
   "outputs": [
    {
     "name": "stdout",
     "output_type": "stream",
     "text": [
      "Hello World!\n"
     ]
    }
   ],
   "source": [
    "print(\"Hello World!\")"
   ]
  },
  {
   "cell_type": "markdown",
   "id": "12132afc-432d-4d23-905a-5cdaaf91983a",
   "metadata": {},
   "source": [
    "---------\n",
    "\n",
    "1. first item\n",
    "2. second item\n",
    "3. third item"
   ]
  }
 ],
 "metadata": {
  "kernelspec": {
   "display_name": "Python",
   "language": "python",
   "name": "conda-env-python-py"
  },
  "language_info": {
   "codemirror_mode": {
    "name": "ipython",
    "version": 3
   },
   "file_extension": ".py",
   "mimetype": "text/x-python",
   "name": "python",
   "nbconvert_exporter": "python",
   "pygments_lexer": "ipython3",
   "version": "3.7.12"
  }
 },
 "nbformat": 4,
 "nbformat_minor": 5
}
